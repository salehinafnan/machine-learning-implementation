{
 "cells": [
  {
   "cell_type": "code",
   "execution_count": 4,
   "id": "5ecb87d8",
   "metadata": {},
   "outputs": [],
   "source": [
    "import numpy as np\n",
    "import matplotlib.pyplot as plt\n",
    "import pandas as pd"
   ]
  },
  {
   "cell_type": "code",
   "execution_count": 5,
   "id": "ed43f252",
   "metadata": {
    "scrolled": true
   },
   "outputs": [],
   "source": [
    "dataset = pd.read_csv(r\"C:\\Users\\Afnan\\Desktop\\ML MID\\dataset.csv\")"
   ]
  },
  {
   "cell_type": "code",
   "execution_count": 6,
   "id": "a81c672e",
   "metadata": {
    "scrolled": true
   },
   "outputs": [
    {
     "data": {
      "text/html": [
       "<div>\n",
       "<style scoped>\n",
       "    .dataframe tbody tr th:only-of-type {\n",
       "        vertical-align: middle;\n",
       "    }\n",
       "\n",
       "    .dataframe tbody tr th {\n",
       "        vertical-align: top;\n",
       "    }\n",
       "\n",
       "    .dataframe thead th {\n",
       "        text-align: right;\n",
       "    }\n",
       "</style>\n",
       "<table border=\"1\" class=\"dataframe\">\n",
       "  <thead>\n",
       "    <tr style=\"text-align: right;\">\n",
       "      <th></th>\n",
       "      <th>ID</th>\n",
       "      <th>Name</th>\n",
       "      <th>Gender</th>\n",
       "      <th>Previous_Symptom</th>\n",
       "      <th>Status</th>\n",
       "      <th>Age</th>\n",
       "      <th>Weight</th>\n",
       "    </tr>\n",
       "  </thead>\n",
       "  <tbody>\n",
       "    <tr>\n",
       "      <th>0</th>\n",
       "      <td>1</td>\n",
       "      <td>Mahir</td>\n",
       "      <td>M</td>\n",
       "      <td>HA</td>\n",
       "      <td>no</td>\n",
       "      <td>23.0</td>\n",
       "      <td>54.0</td>\n",
       "    </tr>\n",
       "    <tr>\n",
       "      <th>1</th>\n",
       "      <td>2</td>\n",
       "      <td>Afnan</td>\n",
       "      <td>M</td>\n",
       "      <td>V</td>\n",
       "      <td>yes</td>\n",
       "      <td>23.0</td>\n",
       "      <td>68.0</td>\n",
       "    </tr>\n",
       "    <tr>\n",
       "      <th>2</th>\n",
       "      <td>3</td>\n",
       "      <td>Bashar</td>\n",
       "      <td>M</td>\n",
       "      <td>HA</td>\n",
       "      <td>yes</td>\n",
       "      <td>24.0</td>\n",
       "      <td>72.0</td>\n",
       "    </tr>\n",
       "    <tr>\n",
       "      <th>3</th>\n",
       "      <td>4</td>\n",
       "      <td>Mahafuj</td>\n",
       "      <td>M</td>\n",
       "      <td>BP</td>\n",
       "      <td>no</td>\n",
       "      <td>25.0</td>\n",
       "      <td>76.0</td>\n",
       "    </tr>\n",
       "    <tr>\n",
       "      <th>4</th>\n",
       "      <td>5</td>\n",
       "      <td>Tasin</td>\n",
       "      <td>M</td>\n",
       "      <td>HBP</td>\n",
       "      <td>no</td>\n",
       "      <td>26.0</td>\n",
       "      <td>NaN</td>\n",
       "    </tr>\n",
       "    <tr>\n",
       "      <th>5</th>\n",
       "      <td>6</td>\n",
       "      <td>Shahid</td>\n",
       "      <td>M</td>\n",
       "      <td>HA</td>\n",
       "      <td>no</td>\n",
       "      <td>NaN</td>\n",
       "      <td>75.0</td>\n",
       "    </tr>\n",
       "    <tr>\n",
       "      <th>6</th>\n",
       "      <td>7</td>\n",
       "      <td>Epu</td>\n",
       "      <td>M</td>\n",
       "      <td>V</td>\n",
       "      <td>yes</td>\n",
       "      <td>23.0</td>\n",
       "      <td>56.0</td>\n",
       "    </tr>\n",
       "    <tr>\n",
       "      <th>7</th>\n",
       "      <td>8</td>\n",
       "      <td>Tuhin</td>\n",
       "      <td>M</td>\n",
       "      <td>BP</td>\n",
       "      <td>yes</td>\n",
       "      <td>NaN</td>\n",
       "      <td>57.0</td>\n",
       "    </tr>\n",
       "    <tr>\n",
       "      <th>8</th>\n",
       "      <td>9</td>\n",
       "      <td>Ifaz</td>\n",
       "      <td>M</td>\n",
       "      <td>None</td>\n",
       "      <td>yes</td>\n",
       "      <td>25.0</td>\n",
       "      <td>NaN</td>\n",
       "    </tr>\n",
       "    <tr>\n",
       "      <th>9</th>\n",
       "      <td>10</td>\n",
       "      <td>Salehin</td>\n",
       "      <td>M</td>\n",
       "      <td>BP</td>\n",
       "      <td>no</td>\n",
       "      <td>32.0</td>\n",
       "      <td>81.0</td>\n",
       "    </tr>\n",
       "  </tbody>\n",
       "</table>\n",
       "</div>"
      ],
      "text/plain": [
       "   ID    Name  Gender Previous_Symptom Status   Age  Weight\n",
       "0   1    Mahir      M               HA     no  23.0    54.0\n",
       "1   2    Afnan      M                V    yes  23.0    68.0\n",
       "2   3  Bashar       M               HA    yes  24.0    72.0\n",
       "3   4  Mahafuj      M               BP     no  25.0    76.0\n",
       "4   5    Tasin      M              HBP     no  26.0     NaN\n",
       "5   6   Shahid      M               HA     no   NaN    75.0\n",
       "6   7      Epu      M                V    yes  23.0    56.0\n",
       "7   8    Tuhin      M               BP    yes   NaN    57.0\n",
       "8   9     Ifaz      M             None    yes  25.0     NaN\n",
       "9  10  Salehin      M               BP     no  32.0    81.0"
      ]
     },
     "execution_count": 6,
     "metadata": {},
     "output_type": "execute_result"
    }
   ],
   "source": [
    "dataset"
   ]
  },
  {
   "cell_type": "code",
   "execution_count": 7,
   "id": "0a19c22c",
   "metadata": {},
   "outputs": [
    {
     "name": "stdout",
     "output_type": "stream",
     "text": [
      "[[1 'Mahir' 'M' 'HA' 'no' 23.0 54.0]\n",
      " [2 'Afnan' 'M' 'V' 'yes' 23.0 68.0]\n",
      " [3 'Bashar ' 'M' 'HA' 'yes' 24.0 72.0]\n",
      " [4 'Mahafuj' 'M' 'BP' 'no' 25.0 76.0]\n",
      " [5 'Tasin' 'M' 'HBP' 'no' 26.0 nan]\n",
      " [6 'Shahid' 'M' 'HA' 'no' nan 75.0]\n",
      " [7 'Epu' 'M' 'V' 'yes' 23.0 56.0]\n",
      " [8 'Tuhin' 'M' 'BP' 'yes' nan 57.0]\n",
      " [9 'Ifaz' 'M' 'None' 'yes' 25.0 nan]\n",
      " [10 'Salehin' 'M' 'BP' 'no' 32.0 81.0]]\n"
     ]
    },
    {
     "data": {
      "text/plain": [
       "array(['no', 'yes', 'yes', 'no', 'no', 'no', 'yes', 'yes', 'yes', 'no'],\n",
       "      dtype=object)"
      ]
     },
     "execution_count": 7,
     "metadata": {},
     "output_type": "execute_result"
    }
   ],
   "source": [
    "x = dataset.iloc[:,:7].values\n",
    "print(x)\n",
    "\n",
    "y = dataset.iloc[:,4].values\n",
    "y"
   ]
  },
  {
   "cell_type": "code",
   "execution_count": 8,
   "id": "068d6ee1",
   "metadata": {},
   "outputs": [
    {
     "data": {
      "text/plain": [
       "array([[23.0, 54.0],\n",
       "       [23.0, 68.0],\n",
       "       [24.0, 72.0],\n",
       "       [25.0, 76.0],\n",
       "       [26.0, nan],\n",
       "       [nan, 75.0],\n",
       "       [23.0, 56.0],\n",
       "       [nan, 57.0],\n",
       "       [25.0, nan],\n",
       "       [32.0, 81.0]], dtype=object)"
      ]
     },
     "execution_count": 8,
     "metadata": {},
     "output_type": "execute_result"
    }
   ],
   "source": [
    "x[:,5:7]"
   ]
  },
  {
   "cell_type": "code",
   "execution_count": 9,
   "id": "ea8eadc9",
   "metadata": {},
   "outputs": [
    {
     "data": {
      "text/plain": [
       "array([[1, 'Mahir', 'M', 'HA', 'no', 23.0, 54.0],\n",
       "       [2, 'Afnan', 'M', 'V', 'yes', 23.0, 68.0],\n",
       "       [3, 'Bashar ', 'M', 'HA', 'yes', 24.0, 72.0],\n",
       "       [4, 'Mahafuj', 'M', 'BP', 'no', 25.0, 76.0],\n",
       "       [5, 'Tasin', 'M', 'HBP', 'no', 26.0, 67.375],\n",
       "       [6, 'Shahid', 'M', 'HA', 'no', 25.125, 75.0],\n",
       "       [7, 'Epu', 'M', 'V', 'yes', 23.0, 56.0],\n",
       "       [8, 'Tuhin', 'M', 'BP', 'yes', 25.125, 57.0],\n",
       "       [9, 'Ifaz', 'M', 'None', 'yes', 25.0, 67.375],\n",
       "       [10, 'Salehin', 'M', 'BP', 'no', 32.0, 81.0]], dtype=object)"
      ]
     },
     "execution_count": 9,
     "metadata": {},
     "output_type": "execute_result"
    }
   ],
   "source": [
    "from sklearn.impute import SimpleImputer\n",
    "imputer = SimpleImputer(missing_values=np.nan , strategy=\"mean\")\n",
    "imputer = imputer.fit(x[:,5:7])\n",
    "x[:,5:7] = imputer.transform(x[:,5:7])\n",
    "\n",
    "x"
   ]
  },
  {
   "cell_type": "code",
   "execution_count": 10,
   "id": "f8f877ff",
   "metadata": {},
   "outputs": [
    {
     "data": {
      "text/plain": [
       "array([['Mahir', 'M', 'HA', 'no'],\n",
       "       ['Afnan', 'M', 'V', 'yes'],\n",
       "       ['Bashar ', 'M', 'HA', 'yes'],\n",
       "       ['Mahafuj', 'M', 'BP', 'no'],\n",
       "       ['Tasin', 'M', 'HBP', 'no'],\n",
       "       ['Shahid', 'M', 'HA', 'no'],\n",
       "       ['Epu', 'M', 'V', 'yes'],\n",
       "       ['Tuhin', 'M', 'BP', 'yes'],\n",
       "       ['Ifaz', 'M', 'None', 'yes'],\n",
       "       ['Salehin', 'M', 'BP', 'no']], dtype=object)"
      ]
     },
     "execution_count": 10,
     "metadata": {},
     "output_type": "execute_result"
    }
   ],
   "source": [
    "x[:,1:5]"
   ]
  },
  {
   "cell_type": "code",
   "execution_count": 14,
   "id": "0299ef9e",
   "metadata": {},
   "outputs": [
    {
     "data": {
      "text/plain": [
       "array([[1, 5, 0, 1, 0, 23.0, 54.0],\n",
       "       [2, 0, 0, 4, 1, 23.0, 68.0],\n",
       "       [3, 1, 0, 1, 1, 24.0, 72.0],\n",
       "       [4, 4, 0, 0, 0, 25.0, 76.0],\n",
       "       [5, 8, 0, 2, 0, 26.0, 67.375],\n",
       "       [6, 7, 0, 1, 0, 25.125, 75.0],\n",
       "       [7, 2, 0, 4, 1, 23.0, 56.0],\n",
       "       [8, 9, 0, 0, 1, 25.125, 57.0],\n",
       "       [9, 3, 0, 3, 1, 25.0, 67.375],\n",
       "       [10, 6, 0, 0, 0, 32.0, 81.0]], dtype=object)"
      ]
     },
     "execution_count": 14,
     "metadata": {},
     "output_type": "execute_result"
    }
   ],
   "source": [
    "from sklearn.preprocessing import LabelEncoder\n",
    "LE = LabelEncoder()\n",
    "x[:,1]=LE.fit_transform(x[:,1])\n",
    "x[:,2]=LE.fit_transform(x[:,2])\n",
    "x[:,3]=LE.fit_transform(x[:,3])\n",
    "x[:,4]=LE.fit_transform(x[:,4])\n",
    "\n",
    "x"
   ]
  },
  {
   "cell_type": "code",
   "execution_count": 12,
   "id": "2b849f80",
   "metadata": {},
   "outputs": [],
   "source": [
    "y=LE.fit_transform(y)"
   ]
  },
  {
   "cell_type": "code",
   "execution_count": 13,
   "id": "1908c446",
   "metadata": {},
   "outputs": [
    {
     "data": {
      "text/plain": [
       "array([0, 1, 1, 0, 0, 0, 1, 1, 1, 0])"
      ]
     },
     "execution_count": 13,
     "metadata": {},
     "output_type": "execute_result"
    }
   ],
   "source": [
    "y"
   ]
  },
  {
   "cell_type": "code",
   "execution_count": 15,
   "id": "f89fb0f2",
   "metadata": {},
   "outputs": [
    {
     "data": {
      "text/plain": [
       "array([[1, 5, 0, 1, 0, 23.0, 54.0],\n",
       "       [8, 9, 0, 0, 1, 25.125, 57.0],\n",
       "       [3, 1, 0, 1, 1, 24.0, 72.0],\n",
       "       [4, 4, 0, 0, 0, 25.0, 76.0],\n",
       "       [7, 2, 0, 4, 1, 23.0, 56.0],\n",
       "       [10, 6, 0, 0, 0, 32.0, 81.0],\n",
       "       [9, 3, 0, 3, 1, 25.0, 67.375]], dtype=object)"
      ]
     },
     "execution_count": 15,
     "metadata": {},
     "output_type": "execute_result"
    }
   ],
   "source": [
    "from sklearn.model_selection import train_test_split\n",
    "x_train, x_test, y_train, y_test = train_test_split(x,y,test_size=0.3,random_state=2)\n",
    "\n",
    "x_train"
   ]
  },
  {
   "cell_type": "code",
   "execution_count": 16,
   "id": "94191256",
   "metadata": {},
   "outputs": [],
   "source": [
    "from sklearn.linear_model import LinearRegression\n",
    "LR = LinearRegression()"
   ]
  },
  {
   "cell_type": "code",
   "execution_count": 17,
   "id": "a3ef67d4",
   "metadata": {},
   "outputs": [
    {
     "data": {
      "text/plain": [
       "LinearRegression()"
      ]
     },
     "execution_count": 17,
     "metadata": {},
     "output_type": "execute_result"
    }
   ],
   "source": [
    "LR.fit(x_train,y_train)"
   ]
  },
  {
   "cell_type": "code",
   "execution_count": 19,
   "id": "f2a07c98",
   "metadata": {},
   "outputs": [
    {
     "data": {
      "text/plain": [
       "array([-2.61727046e-16,  1.00000000e+00,  1.00000000e+00, -8.59429772e-17,\n",
       "        1.00000000e+00, -1.52803542e-15,  1.00000000e+00])"
      ]
     },
     "execution_count": 19,
     "metadata": {},
     "output_type": "execute_result"
    }
   ],
   "source": [
    "train_x_pred = LR.predict(x_train)\n",
    "\n",
    "train_x_pred"
   ]
  },
  {
   "cell_type": "code",
   "execution_count": 20,
   "id": "a79fcdb7",
   "metadata": {},
   "outputs": [
    {
     "data": {
      "text/plain": [
       "array([-6.61886454e-15,  1.00000000e+00, -3.46045356e-15])"
      ]
     },
     "execution_count": 20,
     "metadata": {},
     "output_type": "execute_result"
    }
   ],
   "source": [
    "test_x_pred = LR.predict(x_test)\n",
    "\n",
    "test_x_pred"
   ]
  },
  {
   "cell_type": "code",
   "execution_count": 21,
   "id": "c446fd70",
   "metadata": {},
   "outputs": [
    {
     "data": {
      "image/png": "[encoded data removed]",
      "text/plain": [
       "<Figure size 640x480 with 1 Axes>"
      ]
     },
     "metadata": {},
     "output_type": "display_data"
    }
   ],
   "source": [
    "plt.scatter(y_train,train_x_pred)\n",
    "plt.xlabel(\"Actual Result\")\n",
    "plt.ylabel(\"Pred Result\")\n",
    "plt.show()"
   ]
  },
  {
   "cell_type": "code",
   "execution_count": 22,
   "id": "d08e3995",
   "metadata": {},
   "outputs": [
    {
     "data": {
      "image/png": "[encoded data removed]",
      "text/plain": [
       "<Figure size 640x480 with 1 Axes>"
      ]
     },
     "metadata": {},
     "output_type": "display_data"
    }
   ],
   "source": [
    "plt.scatter(y_test,test_x_pred)\n",
    "plt.xlabel(\"Actual Result\")\n",
    "plt.ylabel(\"Pred Result\")\n",
    "plt.show()"
   ]
  },
  {
   "cell_type": "code",
   "execution_count": null,
   "id": "03814ace",
   "metadata": {},
   "outputs": [],
   "source": [
    "#L-6\n",
    "\n",
    "from sklearn.tree import DecisionTreeClassifier\n",
    "cls = DecisionTreeClassifier()"
   ]
  },
  {
   "cell_type": "code",
   "execution_count": null,
   "id": "95c0dddf",
   "metadata": {},
   "outputs": [],
   "source": [
    "cls.fit(x,y)"
   ]
  },
  {
   "cell_type": "code",
   "execution_count": null,
   "id": "a5e4c2b0",
   "metadata": {},
   "outputs": [],
   "source": [
    "from sklearn.metrics import classification_report, confusion_matrix\n",
    "print(classification_report(y,cls.predict(x)))\n",
    "print(confusion_matrix(y,cls.predict(x)))"
   ]
  },
  {
   "cell_type": "code",
   "execution_count": null,
   "id": "3c93afe7",
   "metadata": {},
   "outputs": [],
   "source": [
    "cf = confusion_matrix(y,cls.predict(x))\n",
    "cf_df = pd.DataFrame(cf,\n",
    "                    index=[0,1],\n",
    "                    columns=[0,1])"
   ]
  },
  {
   "cell_type": "code",
   "execution_count": null,
   "id": "bbb765da",
   "metadata": {},
   "outputs": [],
   "source": [
    "import seaborn as sns\n",
    "\n",
    "sns.heatmap(cf,annot=True)\n",
    "plt.title(\"C_M\")\n",
    "plt.xlabel(\"Actual\")\n",
    "plt.ylabel(\"Predicted\")\n",
    "plt.show()"
   ]
  }
 ],
 "metadata": {
  "kernelspec": {
   "display_name": "base",
   "language": "python",
   "name": "python3"
  },
  "language_info": {
   "codemirror_mode": {
    "name": "ipython",
    "version": 3
   },
   "file_extension": ".py",
   "mimetype": "text/x-python",
   "name": "python",
   "nbconvert_exporter": "python",
   "pygments_lexer": "ipython3",
   "version": "3.9.13"
  },
  "vscode": {
   "interpreter": {
    "hash": "7c2aa8614bf7ce29aca03e446661b2461468a55f9c79032dc21588b799aee401"
   }
  }
 },
 "nbformat": 4,
 "nbformat_minor": 5
}
